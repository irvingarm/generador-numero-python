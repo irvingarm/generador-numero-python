{
 "cells": [
  {
   "attachments": {},
   "cell_type": "markdown",
   "metadata": {},
   "source": [
    "# Generador de datos aleatorios.\n"
   ]
  },
  {
   "attachments": {},
   "cell_type": "markdown",
   "metadata": {},
   "source": [
    "## Datos discretos"
   ]
  },
  {
   "cell_type": "code",
   "execution_count": 1,
   "metadata": {},
   "outputs": [
    {
     "name": "stdout",
     "output_type": "stream",
     "text": [
      "[ 8  8 10  9  8  8  8 11  9  8 10 10  8 10 10 11  7 10  8  8  9 10  8 10\n",
      "  9  9  9  9  8  9  9]\n"
     ]
    }
   ],
   "source": [
    "import numpy as np\n",
    "\n",
    "mu = 9\n",
    "sigma = 1\n",
    "data = np.random.normal(mu, sigma, 31)\n",
    "data = np.clip(data,5 ,15)\n",
    "data = np.around(data).astype(int)\n",
    "\n",
    "print(data)\n"
   ]
  },
  {
   "attachments": {},
   "cell_type": "markdown",
   "metadata": {},
   "source": [
    "## Datos continuos"
   ]
  },
  {
   "cell_type": "code",
   "execution_count": 1,
   "metadata": {},
   "outputs": [
    {
     "name": "stdout",
     "output_type": "stream",
     "text": [
      "[120.3 121.2 115.1 109.8 103.  109.3 104.  132.8 124.9 125.2 122.9 122.8\n",
      " 118.1 120.3 136.1 132.  115.9 111.5 119.7 123.6 125.4 120.  116.9 108.1\n",
      " 111.  108.3 125.5 118.2 101.7 127.5 112.  115.5 125.2 128.7 116.8]\n"
     ]
    }
   ],
   "source": [
    "import numpy as np\n",
    "\n",
    "mu = 117.5\n",
    "sigma = 8.5\n",
    "data = np.random.normal(mu, sigma, 35)\n",
    "data = np.clip(data,95 , 140)\n",
    "data = np.round(data, 1)  # Redondea a 1 decimal\n",
    "data = data.astype(float)  # Convierte los números a tipo float\n",
    "\n",
    "print(data)\n",
    "\n"
   ]
  },
  {
   "cell_type": "code",
   "execution_count": null,
   "metadata": {},
   "outputs": [],
   "source": []
  },
  {
   "cell_type": "code",
   "execution_count": null,
   "metadata": {},
   "outputs": [],
   "source": []
  }
 ],
 "metadata": {
  "kernelspec": {
   "display_name": "Python 3",
   "language": "python",
   "name": "python3"
  },
  "language_info": {
   "codemirror_mode": {
    "name": "ipython",
    "version": 3
   },
   "file_extension": ".py",
   "mimetype": "text/x-python",
   "name": "python",
   "nbconvert_exporter": "python",
   "pygments_lexer": "ipython3",
   "version": "3.9.13"
  },
  "orig_nbformat": 4
 },
 "nbformat": 4,
 "nbformat_minor": 2
}
